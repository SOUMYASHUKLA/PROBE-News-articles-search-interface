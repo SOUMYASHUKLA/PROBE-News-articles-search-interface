{
 "cells": [
  {
   "cell_type": "code",
   "execution_count": 3,
   "metadata": {},
   "outputs": [],
   "source": [
    "import pandas as pd\n",
    "from elasticsearch import Elasticsearch,helpers\n",
    "from elasticsearch.helpers import bulk, streaming_bulk\n",
    "import uuid\n",
    "es = Elasticsearch([{'host': 'localhost', 'port': '9200'}],timeout=30, max_retries=10, retry_on_timeout=True)\n",
    "import json\n",
    "import time\n",
    "from pandas.io.json import json_normalize\n"
   ]
  },
  {
   "cell_type": "code",
   "execution_count": 18,
   "metadata": {},
   "outputs": [
    {
     "name": "stdout",
     "output_type": "stream",
     "text": [
      "307.08069705963135\n",
      "1000000\n"
     ]
    }
   ],
   "source": [
    "df = pd.DataFrame()\n",
    "\n",
    "start = time.time()\n",
    "page = es.search(\n",
    "    index='alldataindex',\n",
    "    scroll='40m',\n",
    "    size=10000,\n",
    "    _source=[\"id\",\"content\"],\n",
    "    body={},\n",
    "    request_timeout=10000\n",
    ")\n",
    "sid = page['_scroll_id']\n",
    "scroll_size = len(page['hits']['hits'])\n",
    "\n",
    "df = df.append(json_normalize(page['hits']['hits']))\n",
    "i=1\n",
    "while (scroll_size > 0):\n",
    "    #print(\"scrolling..\",i)\n",
    "    i=i+1\n",
    "    page = es.scroll(scroll_id = sid, scroll = '40m')\n",
    "    df = df.append(json_normalize(page['hits']['hits']))\n",
    "    sid = page['_scroll_id']\n",
    "    scroll_size = len(page['hits']['hits'])\n",
    "end = time.time() - start\n",
    "print(end)\n",
    "print(len(df))\n"
   ]
  },
  {
   "cell_type": "code",
   "execution_count": 19,
   "metadata": {},
   "outputs": [
    {
     "data": {
      "text/plain": [
       "1000000"
      ]
     },
     "execution_count": 19,
     "metadata": {},
     "output_type": "execute_result"
    }
   ],
   "source": [
    "len(df)"
   ]
  },
  {
   "cell_type": "code",
   "execution_count": 22,
   "metadata": {},
   "outputs": [
    {
     "data": {
      "text/html": [
       "<div>\n",
       "<style scoped>\n",
       "    .dataframe tbody tr th:only-of-type {\n",
       "        vertical-align: middle;\n",
       "    }\n",
       "\n",
       "    .dataframe tbody tr th {\n",
       "        vertical-align: top;\n",
       "    }\n",
       "\n",
       "    .dataframe thead th {\n",
       "        text-align: right;\n",
       "    }\n",
       "</style>\n",
       "<table border=\"1\" class=\"dataframe\">\n",
       "  <thead>\n",
       "    <tr style=\"text-align: right;\">\n",
       "      <th></th>\n",
       "      <th>_id</th>\n",
       "      <th>_index</th>\n",
       "      <th>_score</th>\n",
       "      <th>_source.content</th>\n",
       "      <th>_source.id</th>\n",
       "      <th>_type</th>\n",
       "    </tr>\n",
       "  </thead>\n",
       "  <tbody>\n",
       "    <tr>\n",
       "      <th>0</th>\n",
       "      <td>C7kplWsBcyYnpedmfvCc</td>\n",
       "      <td>alldataindex</td>\n",
       "      <td>1.0</td>\n",
       "      <td>TWO THOUSAND... SIX HUNDRED AND SIXTY-SIX DOLL...</td>\n",
       "      <td>946b2ba4-832b-4501-b802-8b4955dcc129</td>\n",
       "      <td>alldataindex_type</td>\n",
       "    </tr>\n",
       "    <tr>\n",
       "      <th>1</th>\n",
       "      <td>DLkplWsBcyYnpedmfvCc</td>\n",
       "      <td>alldataindex</td>\n",
       "      <td>1.0</td>\n",
       "      <td>Unleashing your entrepreneurial spirit towards...</td>\n",
       "      <td>96e1f93e-3182-4754-b24a-0ad5bf2f6631</td>\n",
       "      <td>alldataindex_type</td>\n",
       "    </tr>\n",
       "  </tbody>\n",
       "</table>\n",
       "</div>"
      ],
      "text/plain": [
       "                    _id        _index  _score  \\\n",
       "0  C7kplWsBcyYnpedmfvCc  alldataindex     1.0   \n",
       "1  DLkplWsBcyYnpedmfvCc  alldataindex     1.0   \n",
       "\n",
       "                                     _source.content  \\\n",
       "0  TWO THOUSAND... SIX HUNDRED AND SIXTY-SIX DOLL...   \n",
       "1  Unleashing your entrepreneurial spirit towards...   \n",
       "\n",
       "                             _source.id              _type  \n",
       "0  946b2ba4-832b-4501-b802-8b4955dcc129  alldataindex_type  \n",
       "1  96e1f93e-3182-4754-b24a-0ad5bf2f6631  alldataindex_type  "
      ]
     },
     "execution_count": 22,
     "metadata": {},
     "output_type": "execute_result"
    }
   ],
   "source": [
    "df.head(2)"
   ]
  },
  {
   "cell_type": "markdown",
   "metadata": {},
   "source": [
    "# preprocess function"
   ]
  },
  {
   "cell_type": "code",
   "execution_count": 20,
   "metadata": {},
   "outputs": [
    {
     "name": "stderr",
     "output_type": "stream",
     "text": [
      "[nltk_data] Downloading package stopwords to\n",
      "[nltk_data]     /Users/ssm392/nltk_data...\n",
      "[nltk_data]   Package stopwords is already up-to-date!\n",
      "[nltk_data] Downloading package punkt to /Users/ssm392/nltk_data...\n",
      "[nltk_data]   Package punkt is already up-to-date!\n",
      "[nltk_data] Downloading package wordnet to /Users/ssm392/nltk_data...\n",
      "[nltk_data]   Package wordnet is already up-to-date!\n"
     ]
    }
   ],
   "source": [
    "import numpy as np\n",
    "from nltk.stem import WordNetLemmatizer\n",
    "import nltk\n",
    "import string as str\n",
    "nltk.download('stopwords')\n",
    "nltk.download('punkt')\n",
    "from nltk.corpus import stopwords\n",
    "nltk.download('wordnet')\n",
    "punctuation_signs=list('''!()-[]{};:'\"\\,<>./?#^_~''')\n",
    "wordnet_lemmatizer = WordNetLemmatizer()\n",
    "stop_words =list(stopwords.words('english')) + punctuation_signs\n",
    "category_codes = {\n",
    "    'Business': 0,\n",
    "    'Entertainment': 1,\n",
    "    'Politics': 2,\n",
    "    'Sport': 3,\n",
    "    'Tech': 4\n",
    "}\n"
   ]
  },
  {
   "cell_type": "code",
   "execution_count": 73,
   "metadata": {},
   "outputs": [],
   "source": [
    "import numpy as np \n",
    "import concurrent.futures\n",
    "from functools import partial\n",
    "\n",
    "def process_text(id1,val):\n",
    "        #print('id:',id1,'val:',val)\n",
    "        #print('----------------------')\n",
    "        dict_parsed = {}\n",
    "        #strval = pd.Series.to_string(val)\n",
    "        res = [wordnet_lemmatizer.lemmatize(word, pos=\"v\") for word in nltk.word_tokenize(val.lower().replace(\"'s\",\" \")) if word.lower() not in stop_words]\n",
    "        dict_parsed['NLPid'] = id1\n",
    "        dict_parsed['Content_Parsed'] = ' '.join(res)\n",
    "        dict_parsed['Category_code'] = \" \"\n",
    "        dict_parsed['News_length'] = len(val)\n",
    "        return dict_parsed \n",
    "    \n",
    "    "
   ]
  },
  {
   "cell_type": "markdown",
   "metadata": {},
   "source": [
    "# Swifter "
   ]
  },
  {
   "cell_type": "code",
   "execution_count": 25,
   "metadata": {},
   "outputs": [],
   "source": [
    "import swifter"
   ]
  },
  {
   "cell_type": "code",
   "execution_count": 68,
   "metadata": {},
   "outputs": [
    {
     "data": {
      "text/html": [
       "<div>\n",
       "<style scoped>\n",
       "    .dataframe tbody tr th:only-of-type {\n",
       "        vertical-align: middle;\n",
       "    }\n",
       "\n",
       "    .dataframe tbody tr th {\n",
       "        vertical-align: top;\n",
       "    }\n",
       "\n",
       "    .dataframe thead th {\n",
       "        text-align: right;\n",
       "    }\n",
       "</style>\n",
       "<table border=\"1\" class=\"dataframe\">\n",
       "  <thead>\n",
       "    <tr style=\"text-align: right;\">\n",
       "      <th></th>\n",
       "      <th>_id</th>\n",
       "      <th>_index</th>\n",
       "      <th>_score</th>\n",
       "      <th>_source.content</th>\n",
       "      <th>_source.id</th>\n",
       "      <th>_type</th>\n",
       "    </tr>\n",
       "  </thead>\n",
       "  <tbody>\n",
       "    <tr>\n",
       "      <th>0</th>\n",
       "      <td>C7kplWsBcyYnpedmfvCc</td>\n",
       "      <td>alldataindex</td>\n",
       "      <td>1.0</td>\n",
       "      <td>TWO THOUSAND... SIX HUNDRED AND SIXTY-SIX DOLL...</td>\n",
       "      <td>946b2ba4-832b-4501-b802-8b4955dcc129</td>\n",
       "      <td>alldataindex_type</td>\n",
       "    </tr>\n",
       "  </tbody>\n",
       "</table>\n",
       "</div>"
      ],
      "text/plain": [
       "                    _id        _index  _score  \\\n",
       "0  C7kplWsBcyYnpedmfvCc  alldataindex     1.0   \n",
       "\n",
       "                                     _source.content  \\\n",
       "0  TWO THOUSAND... SIX HUNDRED AND SIXTY-SIX DOLL...   \n",
       "\n",
       "                             _source.id              _type  \n",
       "0  946b2ba4-832b-4501-b802-8b4955dcc129  alldataindex_type  "
      ]
     },
     "execution_count": 68,
     "metadata": {},
     "output_type": "execute_result"
    }
   ],
   "source": [
    "df.head(1)"
   ]
  },
  {
   "cell_type": "code",
   "execution_count": 70,
   "metadata": {},
   "outputs": [
    {
     "data": {
      "text/plain": [
       "pandas.core.frame.DataFrame"
      ]
     },
     "execution_count": 70,
     "metadata": {},
     "output_type": "execute_result"
    }
   ],
   "source": [
    "type(df[['_source.id', '_source.content']])"
   ]
  },
  {
   "cell_type": "code",
   "execution_count": null,
   "metadata": {},
   "outputs": [],
   "source": []
  },
  {
   "cell_type": "code",
   "execution_count": 74,
   "metadata": {
    "scrolled": false
   },
   "outputs": [
    {
     "data": {
      "application/vnd.jupyter.widget-view+json": {
       "model_id": "6709c32b0dfe494987e561999769539b",
       "version_major": 2,
       "version_minor": 0
      },
      "text/plain": [
       "HBox(children=(IntProgress(value=0, description='Pandas Apply', max=1000000, style=ProgressStyle(description_w…"
      ]
     },
     "metadata": {},
     "output_type": "display_data"
    },
    {
     "name": "stdout",
     "output_type": "stream",
     "text": [
      "CPU times: user 2h 3min 20s, sys: 2min 21s, total: 2h 5min 41s\n",
      "Wall time: 4h 31min 23s\n"
     ]
    }
   ],
   "source": [
    "%time NLPdf = df[['_source.id', '_source.content']].swifter.apply(lambda row: process_text(row['_source.id'], row['_source.content']),axis=1)\n"
   ]
  },
  {
   "cell_type": "code",
   "execution_count": 75,
   "metadata": {},
   "outputs": [
    {
     "data": {
      "text/plain": [
       "pandas.core.series.Series"
      ]
     },
     "execution_count": 75,
     "metadata": {},
     "output_type": "execute_result"
    }
   ],
   "source": [
    "type(NLPdf)"
   ]
  },
  {
   "cell_type": "code",
   "execution_count": 80,
   "metadata": {},
   "outputs": [
    {
     "data": {
      "text/plain": [
       "1000000"
      ]
     },
     "execution_count": 80,
     "metadata": {},
     "output_type": "execute_result"
    }
   ],
   "source": [
    "len(NLPdf)"
   ]
  },
  {
   "cell_type": "code",
   "execution_count": 82,
   "metadata": {},
   "outputs": [
    {
     "data": {
      "application/vnd.jupyter.widget-view+json": {
       "model_id": "ca8e0000261745c3a867f1b430b3ae28",
       "version_major": 2,
       "version_minor": 0
      },
      "text/plain": [
       "HBox(children=(IntProgress(value=0, description='Pandas Apply', max=1000000, style=ProgressStyle(description_w…"
      ]
     },
     "metadata": {},
     "output_type": "display_data"
    }
   ],
   "source": [
    "ppdf = NLPdf.swifter.apply(pd.Series)"
   ]
  },
  {
   "cell_type": "code",
   "execution_count": 83,
   "metadata": {},
   "outputs": [
    {
     "data": {
      "text/html": [
       "<div>\n",
       "<style scoped>\n",
       "    .dataframe tbody tr th:only-of-type {\n",
       "        vertical-align: middle;\n",
       "    }\n",
       "\n",
       "    .dataframe tbody tr th {\n",
       "        vertical-align: top;\n",
       "    }\n",
       "\n",
       "    .dataframe thead th {\n",
       "        text-align: right;\n",
       "    }\n",
       "</style>\n",
       "<table border=\"1\" class=\"dataframe\">\n",
       "  <thead>\n",
       "    <tr style=\"text-align: right;\">\n",
       "      <th></th>\n",
       "      <th>NLPid</th>\n",
       "      <th>Content_Parsed</th>\n",
       "      <th>Category_code</th>\n",
       "      <th>News_length</th>\n",
       "    </tr>\n",
       "  </thead>\n",
       "  <tbody>\n",
       "    <tr>\n",
       "      <th>0</th>\n",
       "      <td>946b2ba4-832b-4501-b802-8b4955dcc129</td>\n",
       "      <td>two thousand ... six hundred sixty-six dollaaa...</td>\n",
       "      <td></td>\n",
       "      <td>754</td>\n",
       "    </tr>\n",
       "    <tr>\n",
       "      <th>1</th>\n",
       "      <td>96e1f93e-3182-4754-b24a-0ad5bf2f6631</td>\n",
       "      <td>unleash entrepreneurial spirit towards own tow...</td>\n",
       "      <td></td>\n",
       "      <td>4178</td>\n",
       "    </tr>\n",
       "    <tr>\n",
       "      <th>2</th>\n",
       "      <td>977bff20-fde0-45d4-bdf7-c2e69e0928d0</td>\n",
       "      <td>'re one country leaders probably n't get much ...</td>\n",
       "      <td></td>\n",
       "      <td>928</td>\n",
       "    </tr>\n",
       "    <tr>\n",
       "      <th>3</th>\n",
       "      <td>40ed5fcd-8cd9-47ab-b363-548866b76221</td>\n",
       "      <td>athlone gaa player owe life quick action medic...</td>\n",
       "      <td></td>\n",
       "      <td>2429</td>\n",
       "    </tr>\n",
       "    <tr>\n",
       "      <th>4</th>\n",
       "      <td>685c537c-89dd-4e1b-96e6-e40275c8d9c4</td>\n",
       "      <td>emerson electric nyse emr open bullishly pivot...</td>\n",
       "      <td></td>\n",
       "      <td>232</td>\n",
       "    </tr>\n",
       "  </tbody>\n",
       "</table>\n",
       "</div>"
      ],
      "text/plain": [
       "                                  NLPid  \\\n",
       "0  946b2ba4-832b-4501-b802-8b4955dcc129   \n",
       "1  96e1f93e-3182-4754-b24a-0ad5bf2f6631   \n",
       "2  977bff20-fde0-45d4-bdf7-c2e69e0928d0   \n",
       "3  40ed5fcd-8cd9-47ab-b363-548866b76221   \n",
       "4  685c537c-89dd-4e1b-96e6-e40275c8d9c4   \n",
       "\n",
       "                                      Content_Parsed Category_code  \\\n",
       "0  two thousand ... six hundred sixty-six dollaaa...                 \n",
       "1  unleash entrepreneurial spirit towards own tow...                 \n",
       "2  're one country leaders probably n't get much ...                 \n",
       "3  athlone gaa player owe life quick action medic...                 \n",
       "4  emerson electric nyse emr open bullishly pivot...                 \n",
       "\n",
       "   News_length  \n",
       "0          754  \n",
       "1         4178  \n",
       "2          928  \n",
       "3         2429  \n",
       "4          232  "
      ]
     },
     "execution_count": 83,
     "metadata": {},
     "output_type": "execute_result"
    }
   ],
   "source": [
    "ppdf.head(5)"
   ]
  },
  {
   "cell_type": "code",
   "execution_count": 79,
   "metadata": {
    "scrolled": true
   },
   "outputs": [],
   "source": [
    "import pickle\n",
    "with open(r'/Users/ssm392/Desktop/IV Project/data/ppdata.jsonl', 'wb') as output:\n",
    "    pickle.dump(NLPdf, output)\n",
    "     "
   ]
  },
  {
   "cell_type": "code",
   "execution_count": 44,
   "metadata": {},
   "outputs": [
    {
     "data": {
      "text/plain": [
       "1000000"
      ]
     },
     "execution_count": 44,
     "metadata": {},
     "output_type": "execute_result"
    }
   ],
   "source": [
    "len(df3)\n",
    "#df=pd.DataFrame()"
   ]
  },
  {
   "cell_type": "code",
   "execution_count": null,
   "metadata": {},
   "outputs": [],
   "source": []
  },
  {
   "cell_type": "code",
   "execution_count": null,
   "metadata": {},
   "outputs": [],
   "source": [
    "## Load preprocessed data to ES"
   ]
  },
  {
   "cell_type": "code",
   "execution_count": 149,
   "metadata": {},
   "outputs": [
    {
     "name": "stdout",
     "output_type": "stream",
     "text": [
      "1000000\n"
     ]
    }
   ],
   "source": [
    "from elasticsearch import Elasticsearch \n",
    "from elasticsearch.helpers import bulk, streaming_bulk \n",
    "\n",
    "es = Elasticsearch([{'host': 'localhost', 'port': '9200'}]) \n",
    "\n",
    "use_these_keys = ['NLPid', 'Content_Parsed','Category_code','News_length'] \n",
    "\n",
    "def filterKeys(document): \n",
    "    return {key: document[key] for key in use_these_keys }\n",
    "\n",
    "  \n",
    "\n",
    "def bulk_json_data(_index, doc_type):  \n",
    "    for index, document in ppdf.iterrows(): \n",
    "        yield { \n",
    "            \"_index\": _index, \n",
    "            \"_type\": doc_type, \n",
    "            \"_source\": filterKeys(document) \n",
    "        } \n",
    "\n",
    "success, failed = 0, 0 \n",
    "\n",
    "\n",
    "# list of errors to be collected is not stats_only \n",
    "\n",
    "errors = [] \n",
    "i=1 \n",
    "\n",
    "for ok, item in streaming_bulk(es, bulk_json_data('ppalldataindex','doc'), chunk_size=1000, max_retries=5,initial_backoff=2, max_backoff=600, request_timeout=3600): \n",
    "\n",
    "    # go through request-reponse pairs and detect failures \n",
    "    if not ok: \n",
    "        if not stats_only: \n",
    "            errors.append(item) \n",
    "        failed += 1 \n",
    "\n",
    "    else: \n",
    "        success += 1 \n",
    "        #print(success) \n",
    "\n",
    "print(success) "
   ]
  },
  {
   "cell_type": "code",
   "execution_count": null,
   "metadata": {},
   "outputs": [],
   "source": []
  },
  {
   "cell_type": "code",
   "execution_count": null,
   "metadata": {},
   "outputs": [],
   "source": []
  },
  {
   "cell_type": "code",
   "execution_count": null,
   "metadata": {},
   "outputs": [],
   "source": []
  },
  {
   "cell_type": "code",
   "execution_count": null,
   "metadata": {},
   "outputs": [],
   "source": []
  },
  {
   "cell_type": "code",
   "execution_count": null,
   "metadata": {},
   "outputs": [],
   "source": []
  },
  {
   "cell_type": "code",
   "execution_count": null,
   "metadata": {},
   "outputs": [],
   "source": []
  },
  {
   "cell_type": "code",
   "execution_count": null,
   "metadata": {},
   "outputs": [],
   "source": []
  },
  {
   "cell_type": "code",
   "execution_count": null,
   "metadata": {},
   "outputs": [],
   "source": []
  },
  {
   "cell_type": "code",
   "execution_count": null,
   "metadata": {},
   "outputs": [],
   "source": []
  },
  {
   "cell_type": "code",
   "execution_count": null,
   "metadata": {},
   "outputs": [],
   "source": []
  },
  {
   "cell_type": "code",
   "execution_count": null,
   "metadata": {},
   "outputs": [],
   "source": []
  },
  {
   "cell_type": "code",
   "execution_count": null,
   "metadata": {},
   "outputs": [],
   "source": []
  },
  {
   "cell_type": "code",
   "execution_count": null,
   "metadata": {},
   "outputs": [],
   "source": []
  },
  {
   "cell_type": "code",
   "execution_count": null,
   "metadata": {},
   "outputs": [],
   "source": []
  },
  {
   "cell_type": "code",
   "execution_count": null,
   "metadata": {},
   "outputs": [],
   "source": []
  },
  {
   "cell_type": "code",
   "execution_count": null,
   "metadata": {},
   "outputs": [],
   "source": []
  },
  {
   "cell_type": "code",
   "execution_count": null,
   "metadata": {},
   "outputs": [],
   "source": []
  },
  {
   "cell_type": "code",
   "execution_count": null,
   "metadata": {},
   "outputs": [],
   "source": []
  },
  {
   "cell_type": "code",
   "execution_count": null,
   "metadata": {},
   "outputs": [],
   "source": []
  },
  {
   "cell_type": "code",
   "execution_count": 102,
   "metadata": {},
   "outputs": [],
   "source": []
  },
  {
   "cell_type": "code",
   "execution_count": null,
   "metadata": {},
   "outputs": [],
   "source": []
  },
  {
   "cell_type": "code",
   "execution_count": null,
   "metadata": {},
   "outputs": [],
   "source": []
  },
  {
   "cell_type": "code",
   "execution_count": null,
   "metadata": {},
   "outputs": [],
   "source": []
  },
  {
   "cell_type": "code",
   "execution_count": null,
   "metadata": {},
   "outputs": [],
   "source": []
  },
  {
   "cell_type": "code",
   "execution_count": null,
   "metadata": {},
   "outputs": [],
   "source": []
  },
  {
   "cell_type": "code",
   "execution_count": null,
   "metadata": {},
   "outputs": [],
   "source": []
  },
  {
   "cell_type": "code",
   "execution_count": null,
   "metadata": {},
   "outputs": [],
   "source": []
  },
  {
   "cell_type": "code",
   "execution_count": null,
   "metadata": {},
   "outputs": [],
   "source": []
  },
  {
   "cell_type": "code",
   "execution_count": null,
   "metadata": {},
   "outputs": [],
   "source": []
  },
  {
   "cell_type": "code",
   "execution_count": null,
   "metadata": {},
   "outputs": [],
   "source": []
  },
  {
   "cell_type": "code",
   "execution_count": null,
   "metadata": {},
   "outputs": [],
   "source": []
  },
  {
   "cell_type": "code",
   "execution_count": null,
   "metadata": {},
   "outputs": [],
   "source": []
  },
  {
   "cell_type": "code",
   "execution_count": null,
   "metadata": {},
   "outputs": [],
   "source": []
  },
  {
   "cell_type": "code",
   "execution_count": null,
   "metadata": {},
   "outputs": [],
   "source": []
  },
  {
   "cell_type": "code",
   "execution_count": null,
   "metadata": {},
   "outputs": [],
   "source": []
  },
  {
   "cell_type": "code",
   "execution_count": null,
   "metadata": {},
   "outputs": [],
   "source": []
  },
  {
   "cell_type": "code",
   "execution_count": null,
   "metadata": {},
   "outputs": [],
   "source": []
  },
  {
   "cell_type": "code",
   "execution_count": null,
   "metadata": {},
   "outputs": [],
   "source": []
  },
  {
   "cell_type": "code",
   "execution_count": null,
   "metadata": {},
   "outputs": [],
   "source": []
  },
  {
   "cell_type": "code",
   "execution_count": null,
   "metadata": {},
   "outputs": [],
   "source": []
  },
  {
   "cell_type": "code",
   "execution_count": null,
   "metadata": {},
   "outputs": [],
   "source": []
  },
  {
   "cell_type": "code",
   "execution_count": null,
   "metadata": {},
   "outputs": [],
   "source": []
  }
 ],
 "metadata": {
  "kernelspec": {
   "display_name": "Python 3",
   "language": "python",
   "name": "python3"
  },
  "language_info": {
   "codemirror_mode": {
    "name": "ipython",
    "version": 3
   },
   "file_extension": ".py",
   "mimetype": "text/x-python",
   "name": "python",
   "nbconvert_exporter": "python",
   "pygments_lexer": "ipython3",
   "version": "3.7.1"
  }
 },
 "nbformat": 4,
 "nbformat_minor": 2
}
