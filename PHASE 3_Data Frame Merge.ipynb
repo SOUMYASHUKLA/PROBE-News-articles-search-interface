{
 "cells": [
  {
   "cell_type": "code",
   "execution_count": null,
   "metadata": {},
   "outputs": [],
   "source": [
    "import pandas as pd\n",
    "from elasticsearch import Elasticsearch,helpers\n",
    "from elasticsearch.helpers import bulk, streaming_bulk\n",
    "import uuid\n",
    "es = Elasticsearch([{'host': 'localhost', 'port': '9200'}],timeout=30, max_retries=10, retry_on_timeout=True)\n",
    "import json\n",
    "import time\n",
    "from pandas.io.json import json_normalize\n"
   ]
  },
  {
   "cell_type": "code",
   "execution_count": null,
   "metadata": {},
   "outputs": [],
   "source": [
    "alldf = pd.DataFrame()\n",
    "\n",
    "start = time.time()\n",
    "page = es.search(\n",
    "    index='alldataindex',\n",
    "    scroll='40m',\n",
    "    size=10000,\n",
    "    _source=[\"id\",\"content\"],\n",
    "    body={},\n",
    "    request_timeout=10000\n",
    ")\n",
    "sid = page['_scroll_id']\n",
    "scroll_size = len(page['hits']['hits'])\n",
    "\n",
    "alldf = alldf.append(json_normalize(page['hits']['hits']))\n",
    "i=1\n",
    "while (scroll_size > 0):\n",
    "    #print(\"scrolling..\",i)\n",
    "    i=i+1\n",
    "    page = es.scroll(scroll_id = sid, scroll = '40m')\n",
    "    alldf = alldf.append(json_normalize(page['hits']['hits']))\n",
    "    sid = page['_scroll_id']\n",
    "    scroll_size = len(page['hits']['hits'])\n",
    "end = time.time() - start\n",
    "print(end)\n",
    "print(len(alldf))\n"
   ]
  },
  {
   "cell_type": "code",
   "execution_count": null,
   "metadata": {},
   "outputs": [],
   "source": []
  },
  {
   "cell_type": "code",
   "execution_count": null,
   "metadata": {},
   "outputs": [],
   "source": [
    "nlpidf = pd.DataFrame()\n",
    "\n",
    "start = time.time()\n",
    "page = es.search(\n",
    "    index='postnlpdata',\n",
    "    scroll='40m',\n",
    "    size=10000,\n",
    "    _source=[\"NLPid\",\"content\"],\n",
    "    body={},\n",
    "    request_timeout=10000\n",
    ")\n",
    "sid = page['_scroll_id']\n",
    "scroll_size = len(page['hits']['hits'])\n",
    "\n",
    "nlpidf = nlpidf.append(json_normalize(page['hits']['hits']))\n",
    "i=1\n",
    "while (scroll_size > 0):\n",
    "    #print(\"scrolling..\",i)\n",
    "    i=i+1\n",
    "    page = es.scroll(scroll_id = sid, scroll = '40m')\n",
    "    nlpidf = nlpidf.append(json_normalize(page['hits']['hits']))\n",
    "    sid = page['_scroll_id']\n",
    "    scroll_size = len(page['hits']['hits'])\n",
    "end = time.time() - start\n",
    "print(end)\n",
    "print(len(nlpidf))\n"
   ]
  },
  {
   "cell_type": "code",
   "execution_count": null,
   "metadata": {},
   "outputs": [],
   "source": []
  },
  {
   "cell_type": "code",
   "execution_count": null,
   "metadata": {},
   "outputs": [],
   "source": []
  },
  {
   "cell_type": "code",
   "execution_count": null,
   "metadata": {},
   "outputs": [],
   "source": [
    "#Change column names : \n",
    "df.columns = ['content','id'] \n"
   ]
  },
  {
   "cell_type": "code",
   "execution_count": null,
   "metadata": {},
   "outputs": [],
   "source": [
    "#Delete columns: \n",
    "del df3['content'] \n"
   ]
  },
  {
   "cell_type": "code",
   "execution_count": null,
   "metadata": {},
   "outputs": [],
   "source": [
    "#Dataframe merge: \n",
    "df3=pd.merge(df, df4, how='inner', on='id') "
   ]
  },
  {
   "cell_type": "code",
   "execution_count": null,
   "metadata": {},
   "outputs": [],
   "source": []
  },
  {
   "cell_type": "code",
   "execution_count": null,
   "metadata": {},
   "outputs": [],
   "source": []
  },
  {
   "cell_type": "code",
   "execution_count": null,
   "metadata": {},
   "outputs": [],
   "source": []
  },
  {
   "cell_type": "code",
   "execution_count": null,
   "metadata": {},
   "outputs": [],
   "source": []
  },
  {
   "cell_type": "code",
   "execution_count": null,
   "metadata": {},
   "outputs": [],
   "source": []
  },
  {
   "cell_type": "code",
   "execution_count": null,
   "metadata": {},
   "outputs": [],
   "source": []
  },
  {
   "cell_type": "code",
   "execution_count": null,
   "metadata": {},
   "outputs": [],
   "source": []
  },
  {
   "cell_type": "code",
   "execution_count": null,
   "metadata": {},
   "outputs": [],
   "source": []
  },
  {
   "cell_type": "code",
   "execution_count": null,
   "metadata": {},
   "outputs": [],
   "source": []
  },
  {
   "cell_type": "code",
   "execution_count": null,
   "metadata": {},
   "outputs": [],
   "source": []
  }
 ],
 "metadata": {
  "kernelspec": {
   "display_name": "Python 3",
   "language": "python",
   "name": "python3"
  },
  "language_info": {
   "codemirror_mode": {
    "name": "ipython",
    "version": 3
   },
   "file_extension": ".py",
   "mimetype": "text/x-python",
   "name": "python",
   "nbconvert_exporter": "python",
   "pygments_lexer": "ipython3",
   "version": "3.7.1"
  }
 },
 "nbformat": 4,
 "nbformat_minor": 2
}
